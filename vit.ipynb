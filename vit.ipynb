{
  "nbformat": 4,
  "nbformat_minor": 0,
  "metadata": {
    "colab": {
      "provenance": [],
      "gpuType": "T4",
      "authorship_tag": "ABX9TyPVx0li6kmUuv/bSZE4cz51"
    },
    "kernelspec": {
      "name": "python3",
      "display_name": "Python 3"
    },
    "language_info": {
      "name": "python"
    },
    "accelerator": "GPU"
  },
  "cells": [
    {
      "cell_type": "code",
      "execution_count": 88,
      "metadata": {
        "id": "6XEtEEg1V2ZW"
      },
      "outputs": [],
      "source": [
        "import numpy as np\n",
        "import tensorflow as tf\n",
        "import matplotlib.pyplot as plt\n",
        "from tensorflow.keras import layers"
      ]
    },
    {
      "cell_type": "code",
      "source": [
        "(x_train,y_train) ,(x_test, y_test) = tf.keras.datasets.cifar100.load_data()\n",
        "num_classes = 100"
      ],
      "metadata": {
        "id": "MQBhWZJoWLav"
      },
      "execution_count": 89,
      "outputs": []
    },
    {
      "cell_type": "code",
      "source": [
        "x_train.shape , y_train.shape"
      ],
      "metadata": {
        "colab": {
          "base_uri": "https://localhost:8080/"
        },
        "id": "sv5bMjfgXCpO",
        "outputId": "3d91afdc-50b0-482e-d3f8-0ab910dd823d"
      },
      "execution_count": 90,
      "outputs": [
        {
          "output_type": "execute_result",
          "data": {
            "text/plain": [
              "((50000, 32, 32, 3), (50000, 1))"
            ]
          },
          "metadata": {},
          "execution_count": 90
        }
      ]
    },
    {
      "cell_type": "code",
      "source": [
        "#데이터 확인\n",
        "plt.figure(figsize=(10,2))\n",
        "for i in range(5):\n",
        "    plt.subplot(1,5,i+1)\n",
        "    plt.imshow(x_train[i])\n",
        "    plt.axis('off')\n",
        "plt.show()"
      ],
      "metadata": {
        "colab": {
          "base_uri": "https://localhost:8080/",
          "height": 170
        },
        "id": "vsVfH1qDXCdZ",
        "outputId": "2bbbe729-36bb-43fc-fb99-73304994cee8"
      },
      "execution_count": 91,
      "outputs": [
        {
          "output_type": "display_data",
          "data": {
            "text/plain": [
              "<Figure size 1000x200 with 5 Axes>"
            ],
            "image/png": "[encoded data removed]"
          },
          "metadata": {}
        }
      ]
    },
    {
      "cell_type": "code",
      "source": [
        "x_train = x_train /255.\n",
        "x_test = x_test /255."
      ],
      "metadata": {
        "id": "4xPCensqXVxP"
      },
      "execution_count": 92,
      "outputs": []
    },
    {
      "cell_type": "code",
      "source": [
        "# 하이퍼 파라미터 설정\n",
        "\n",
        "input_shape = (32,32,3)\n",
        "batch_size = 32\n",
        "\n",
        "image_size = 72\n",
        "patch_size = 6\n",
        "num_patches = (image_size // patch_size) ** 2\n",
        "\n",
        "#최신 논문일경우 러닝메이트가 쓰이는경우가 많다\n",
        "learning_rate = 1e-3\n",
        "weight_decay = 1e-4\n",
        "\n",
        "epochs = 30\n",
        "\n",
        "transformer_layers = 4\n",
        "projection_dim = 64 # embedding을 통과하고 나온 wk wq wv(output_dim)이다\n",
        "num_heads = 4\n",
        "transformer_units = [projection_dim * 2 , projection_dim]\n",
        "mlp_head_units = [2048,1024]"
      ],
      "metadata": {
        "id": "dvHIjxLiXw-E"
      },
      "execution_count": 93,
      "outputs": []
    },
    {
      "cell_type": "code",
      "source": [
        "#토큰화\n",
        "class PatchTokenization(layers.Layer):\n",
        "    def __init__(self, image_size=image_size, patch_size=patch_size,\n",
        "                 num_patches=num_patches, projection_dim=projection_dim, **kwargs):\n",
        "        super().__init__(**kwargs)\n",
        "        self.image_size = image_size\n",
        "        self.patch_size = patch_size\n",
        "        self.half_patch = patch_size // 2\n",
        "        self.flatten_patch = layers.Reshape((num_patches,-1))\n",
        "        self.projection = layers.Dense(projection_dim)\n",
        "        self.layer_norm = layers.LayerNormalization(epsilon=1e-6)\n",
        "    def call(self, images):\n",
        "        patches = tf.image.extract_patches(\n",
        "            images = images,\n",
        "            sizes = [1, self.patch_size, self.patch_size,1],\n",
        "            strides = [1, self.patch_size, self.patch_size,1],\n",
        "            rates = [1,1,1,1],\n",
        "            padding=\"VALID\"\n",
        "        )\n",
        "        flat_patches = self.flatten_patch(patches)\n",
        "        tokens = self.projection(flat_patches)\n",
        "        return (tokens, patches)"
      ],
      "metadata": {
        "id": "sfGa68fkZ_Ue"
      },
      "execution_count": 94,
      "outputs": []
    },
    {
      "cell_type": "code",
      "source": [
        "#크기가 너무 작아서 재조정\n",
        "image = x_train[4]\n",
        "resized = tf.image.resize(tf.convert_to_tensor([image]),size=(image_size,image_size))\n",
        "resized.shape"
      ],
      "metadata": {
        "colab": {
          "base_uri": "https://localhost:8080/"
        },
        "id": "yBRVBcvldwYN",
        "outputId": "ff98e276-4a4a-4ac9-fc05-7ad266e7fe19"
      },
      "execution_count": 95,
      "outputs": [
        {
          "output_type": "execute_result",
          "data": {
            "text/plain": [
              "TensorShape([1, 72, 72, 3])"
            ]
          },
          "metadata": {},
          "execution_count": 95
        }
      ]
    },
    {
      "cell_type": "code",
      "source": [
        "(token, patch) = PatchTokenization()(resized)\n",
        "print(token.shape)\n",
        "print(patch.shape)"
      ],
      "metadata": {
        "colab": {
          "base_uri": "https://localhost:8080/"
        },
        "id": "GrTtG9oieKfE",
        "outputId": "70cb7391-18c7-41ee-d247-ca7395def8db"
      },
      "execution_count": 96,
      "outputs": [
        {
          "output_type": "stream",
          "name": "stdout",
          "text": [
            "(1, 144, 64)\n",
            "(1, 12, 12, 108)\n"
          ]
        }
      ]
    },
    {
      "cell_type": "code",
      "source": [
        "(token,patch) = (token[0],patch[0])\n",
        "\n",
        "n = patch.shape[0]\n",
        "count = 1"
      ],
      "metadata": {
        "id": "FRD2_bQ_fC-h"
      },
      "execution_count": 97,
      "outputs": []
    },
    {
      "cell_type": "code",
      "source": [
        "#패치화 확인 시각화\n",
        "plt.figure(figsize=(4,4))\n",
        "for row in range(n):\n",
        "    for col in range(n):\n",
        "        plt.subplot(n,n,count)\n",
        "        count += 1\n",
        "        image = tf.reshape(patch[row][col], (patch_size, patch_size, 3))\n",
        "        plt.imshow(image)\n",
        "        plt.axis('off')\n",
        "plt.show()"
      ],
      "metadata": {
        "colab": {
          "base_uri": "https://localhost:8080/",
          "height": 345
        },
        "id": "j8kaNXH_jTxN",
        "outputId": "7b0a7d73-e107-45df-c542-3dcaff587c5d"
      },
      "execution_count": 98,
      "outputs": [
        {
          "output_type": "display_data",
          "data": {
            "text/plain": [
              "<Figure size 400x400 with 144 Axes>"
            ],
            "image/png": "[encoded data removed]"
          },
          "metadata": {}
        }
      ]
    },
    {
      "cell_type": "code",
      "source": [
        "class PatchEncoder(layers.Layer):\n",
        "    def __init__(self, num_patches=num_patches,\n",
        "                 projection_dim=projection_dim , **kwargs):\n",
        "        super().__init__(**kwargs)\n",
        "        self.num_patches = num_patches\n",
        "        self.poisition_embedding = layers.Embedding(input_dim = num_patches, output_dim = projection_dim)\n",
        "        self.positions = tf.range(start=0, limit=self.num_patches,delta=1)\n",
        "\n",
        "    def call(self, encoded_patches):\n",
        "        encoded_positions = self.poisition_embedding(self.positions)\n",
        "        encoded_patches = encoded_patches + encoded_positions\n",
        "        return encoded_patches\n"
      ],
      "metadata": {
        "id": "SVJruWjAj7nF"
      },
      "execution_count": 99,
      "outputs": []
    },
    {
      "cell_type": "code",
      "source": [
        "def mlp(x, hidden_units, dropout_rate):\n",
        "    for units in hidden_units:\n",
        "        x = layers.Dense(units, activation = tf.nn.gelu)(x)\n",
        "        x = layers.Dropout(dropout_rate)(x)\n",
        "    return x"
      ],
      "metadata": {
        "id": "PzVDsO0ypZUM"
      },
      "execution_count": 100,
      "outputs": []
    },
    {
      "cell_type": "code",
      "source": [
        "def create_vit_classifier():\n",
        "    inputs = layers.Input(shape=input_shape)\n",
        "    x = layers.Normalization()(inputs)\n",
        "    x = layers.Resizing(image_size,image_size)(x)\n",
        "    (tokens , _ )= PatchTokenization()(x)\n",
        "    encoded_patches = PatchEncoder()(tokens)\n",
        "    for _ in range(transformer_layers):\n",
        "        x1 = layers.LayerNormalization(epsilon=1e-6)(encoded_patches) ##\n",
        "        attention_output = layers.MultiHeadAttention(num_heads=num_heads,\n",
        "                                                     key_dim=projection_dim,\n",
        "                                                     dropout=0.1)(x1,x1)\n",
        "        x2 = layers.Add()([attention_output,encoded_patches])\n",
        "        x3 = layers.LayerNormalization(epsilon=1e-6)(x2) #\n",
        "        x3 = mlp(x3, hidden_units=transformer_units, dropout_rate=0.1)\n",
        "        encoded_patches = layers.Add()([x3,x2])\n",
        "\n",
        "    x = layers.LayerNormalization(epsilon=1e-6)(encoded_patches) #\n",
        "    x = layers.Flatten()(x)\n",
        "    x = layers.Dropout(0.5)(x)\n",
        "    x = mlp(x, hidden_units=mlp_head_units, dropout_rate=0.5)\n",
        "    outputs = layers.Dense(num_classes)(x)\n",
        "    model = tf.keras.Model(inputs=inputs , outputs=outputs)\n",
        "    return model"
      ],
      "metadata": {
        "id": "02WrKjFeqhr9"
      },
      "execution_count": 101,
      "outputs": []
    },
    {
      "cell_type": "code",
      "source": [
        "vit = create_vit_classifier()\n",
        "vit.summary()"
      ],
      "metadata": {
        "colab": {
          "base_uri": "https://localhost:8080/"
        },
        "id": "A1qvUJ16r0cA",
        "outputId": "44437290-66ae-40fa-bbca-fbd5b86b1c7e"
      },
      "execution_count": 102,
      "outputs": [
        {
          "output_type": "stream",
          "name": "stdout",
          "text": [
            "Model: \"model_1\"\n",
            "__________________________________________________________________________________________________\n",
            " Layer (type)                Output Shape                 Param #   Connected to                  \n",
            "==================================================================================================\n",
            " input_9 (InputLayer)        [(None, 32, 32, 3)]          0         []                            \n",
            "                                                                                                  \n",
            " normalization_12 (Normaliz  (None, 32, 32, 3)            7         ['input_9[0][0]']             \n",
            " ation)                                                                                           \n",
            "                                                                                                  \n",
            " resizing_8 (Resizing)       (None, 72, 72, 3)            0         ['normalization_12[0][0]']    \n",
            "                                                                                                  \n",
            " patch_tokenization_14 (Pat  ((None, 144, 64),            6976      ['resizing_8[0][0]']          \n",
            " chTokenization)              (None, 12, 12, 108))                                                \n",
            "                                                                                                  \n",
            " patch_encoder_8 (PatchEnco  (None, 144, 64)              9216      ['patch_tokenization_14[0][0]'\n",
            " der)                                                               ]                             \n",
            "                                                                                                  \n",
            " layer_normalization_24 (La  (None, 144, 64)              128       ['patch_encoder_8[0][0]']     \n",
            " yerNormalization)                                                                                \n",
            "                                                                                                  \n",
            " multi_head_attention_6 (Mu  (None, 144, 64)              66368     ['layer_normalization_24[0][0]\n",
            " ltiHeadAttention)                                                  ',                            \n",
            "                                                                     'layer_normalization_24[0][0]\n",
            "                                                                    ']                            \n",
            "                                                                                                  \n",
            " add_10 (Add)                (None, 144, 64)              0         ['multi_head_attention_6[0][0]\n",
            "                                                                    ',                            \n",
            "                                                                     'patch_encoder_8[0][0]']     \n",
            "                                                                                                  \n",
            " layer_normalization_25 (La  (None, 144, 64)              128       ['add_10[0][0]']              \n",
            " yerNormalization)                                                                                \n",
            "                                                                                                  \n",
            " dense_26 (Dense)            (None, 144, 128)             8320      ['layer_normalization_25[0][0]\n",
            "                                                                    ']                            \n",
            "                                                                                                  \n",
            " dropout_11 (Dropout)        (None, 144, 128)             0         ['dense_26[0][0]']            \n",
            "                                                                                                  \n",
            " dense_27 (Dense)            (None, 144, 64)              8256      ['dropout_11[0][0]']          \n",
            "                                                                                                  \n",
            " dropout_12 (Dropout)        (None, 144, 64)              0         ['dense_27[0][0]']            \n",
            "                                                                                                  \n",
            " add_11 (Add)                (None, 144, 64)              0         ['dropout_12[0][0]',          \n",
            "                                                                     'add_10[0][0]']              \n",
            "                                                                                                  \n",
            " layer_normalization_26 (La  (None, 144, 64)              128       ['add_11[0][0]']              \n",
            " yerNormalization)                                                                                \n",
            "                                                                                                  \n",
            " multi_head_attention_7 (Mu  (None, 144, 64)              66368     ['layer_normalization_26[0][0]\n",
            " ltiHeadAttention)                                                  ',                            \n",
            "                                                                     'layer_normalization_26[0][0]\n",
            "                                                                    ']                            \n",
            "                                                                                                  \n",
            " add_12 (Add)                (None, 144, 64)              0         ['multi_head_attention_7[0][0]\n",
            "                                                                    ',                            \n",
            "                                                                     'add_11[0][0]']              \n",
            "                                                                                                  \n",
            " layer_normalization_27 (La  (None, 144, 64)              128       ['add_12[0][0]']              \n",
            " yerNormalization)                                                                                \n",
            "                                                                                                  \n",
            " dense_28 (Dense)            (None, 144, 128)             8320      ['layer_normalization_27[0][0]\n",
            "                                                                    ']                            \n",
            "                                                                                                  \n",
            " dropout_13 (Dropout)        (None, 144, 128)             0         ['dense_28[0][0]']            \n",
            "                                                                                                  \n",
            " dense_29 (Dense)            (None, 144, 64)              8256      ['dropout_13[0][0]']          \n",
            "                                                                                                  \n",
            " dropout_14 (Dropout)        (None, 144, 64)              0         ['dense_29[0][0]']            \n",
            "                                                                                                  \n",
            " add_13 (Add)                (None, 144, 64)              0         ['dropout_14[0][0]',          \n",
            "                                                                     'add_12[0][0]']              \n",
            "                                                                                                  \n",
            " layer_normalization_28 (La  (None, 144, 64)              128       ['add_13[0][0]']              \n",
            " yerNormalization)                                                                                \n",
            "                                                                                                  \n",
            " multi_head_attention_8 (Mu  (None, 144, 64)              66368     ['layer_normalization_28[0][0]\n",
            " ltiHeadAttention)                                                  ',                            \n",
            "                                                                     'layer_normalization_28[0][0]\n",
            "                                                                    ']                            \n",
            "                                                                                                  \n",
            " add_14 (Add)                (None, 144, 64)              0         ['multi_head_attention_8[0][0]\n",
            "                                                                    ',                            \n",
            "                                                                     'add_13[0][0]']              \n",
            "                                                                                                  \n",
            " layer_normalization_29 (La  (None, 144, 64)              128       ['add_14[0][0]']              \n",
            " yerNormalization)                                                                                \n",
            "                                                                                                  \n",
            " dense_30 (Dense)            (None, 144, 128)             8320      ['layer_normalization_29[0][0]\n",
            "                                                                    ']                            \n",
            "                                                                                                  \n",
            " dropout_15 (Dropout)        (None, 144, 128)             0         ['dense_30[0][0]']            \n",
            "                                                                                                  \n",
            " dense_31 (Dense)            (None, 144, 64)              8256      ['dropout_15[0][0]']          \n",
            "                                                                                                  \n",
            " dropout_16 (Dropout)        (None, 144, 64)              0         ['dense_31[0][0]']            \n",
            "                                                                                                  \n",
            " add_15 (Add)                (None, 144, 64)              0         ['dropout_16[0][0]',          \n",
            "                                                                     'add_14[0][0]']              \n",
            "                                                                                                  \n",
            " layer_normalization_30 (La  (None, 144, 64)              128       ['add_15[0][0]']              \n",
            " yerNormalization)                                                                                \n",
            "                                                                                                  \n",
            " multi_head_attention_9 (Mu  (None, 144, 64)              66368     ['layer_normalization_30[0][0]\n",
            " ltiHeadAttention)                                                  ',                            \n",
            "                                                                     'layer_normalization_30[0][0]\n",
            "                                                                    ']                            \n",
            "                                                                                                  \n",
            " add_16 (Add)                (None, 144, 64)              0         ['multi_head_attention_9[0][0]\n",
            "                                                                    ',                            \n",
            "                                                                     'add_15[0][0]']              \n",
            "                                                                                                  \n",
            " layer_normalization_31 (La  (None, 144, 64)              128       ['add_16[0][0]']              \n",
            " yerNormalization)                                                                                \n",
            "                                                                                                  \n",
            " dense_32 (Dense)            (None, 144, 128)             8320      ['layer_normalization_31[0][0]\n",
            "                                                                    ']                            \n",
            "                                                                                                  \n",
            " dropout_17 (Dropout)        (None, 144, 128)             0         ['dense_32[0][0]']            \n",
            "                                                                                                  \n",
            " dense_33 (Dense)            (None, 144, 64)              8256      ['dropout_17[0][0]']          \n",
            "                                                                                                  \n",
            " dropout_18 (Dropout)        (None, 144, 64)              0         ['dense_33[0][0]']            \n",
            "                                                                                                  \n",
            " add_17 (Add)                (None, 144, 64)              0         ['dropout_18[0][0]',          \n",
            "                                                                     'add_16[0][0]']              \n",
            "                                                                                                  \n",
            " layer_normalization_32 (La  (None, 144, 64)              128       ['add_17[0][0]']              \n",
            " yerNormalization)                                                                                \n",
            "                                                                                                  \n",
            " flatten_1 (Flatten)         (None, 9216)                 0         ['layer_normalization_32[0][0]\n",
            "                                                                    ']                            \n",
            "                                                                                                  \n",
            " dropout_19 (Dropout)        (None, 9216)                 0         ['flatten_1[0][0]']           \n",
            "                                                                                                  \n",
            " dense_34 (Dense)            (None, 2048)                 1887641   ['dropout_19[0][0]']          \n",
            "                                                          6                                       \n",
            "                                                                                                  \n",
            " dropout_20 (Dropout)        (None, 2048)                 0         ['dense_34[0][0]']            \n",
            "                                                                                                  \n",
            " dense_35 (Dense)            (None, 1024)                 2098176   ['dropout_20[0][0]']          \n",
            "                                                                                                  \n",
            " dropout_21 (Dropout)        (None, 1024)                 0         ['dense_35[0][0]']            \n",
            "                                                                                                  \n",
            " dense_36 (Dense)            (None, 100)                  102500    ['dropout_21[0][0]']          \n",
            "                                                                                                  \n",
            "==================================================================================================\n",
            "Total params: 21426219 (81.73 MB)\n",
            "Trainable params: 21426212 (81.73 MB)\n",
            "Non-trainable params: 7 (32.00 Byte)\n",
            "__________________________________________________________________________________________________\n"
          ]
        }
      ]
    },
    {
      "cell_type": "code",
      "source": [
        "class CosineDecay(tf.keras.optimizers.schedules.LearningRateSchedule):\n",
        "    def __init__(self, learning_rate_base, total_steps, warmup_learning_rate, warmup_steps):\n",
        "        super().__init__()\n",
        "        self.learning_rate_base = learning_rate_base\n",
        "        self.total_steps = total_steps\n",
        "        self.warmup_learning_rate = warmup_learning_rate\n",
        "        self.warmup_steps = warmup_steps\n",
        "        self.pi = tf.constant(np.pi)\n",
        "\n",
        "    def __call__(self, step):\n",
        "        if self.total_steps < self.warmup_steps:\n",
        "            raise ValueError(\"total_steps 값이 warmup_steps보다 크거나 같아야합니다.\")\n",
        "\n",
        "        cos_annealed_lr = tf.cos(self.pi * (tf.cast(step, tf.float32) - self.warmup_steps) / float(self.total_steps - self.warmup_steps))\n",
        "        learning_rate = 0.5 * self.learning_rate_base * (1 + cos_annealed_lr)\n",
        "\n",
        "        if self.warmup_steps > 0:\n",
        "            if self.learning_rate_base < self.warmup_learning_rate:\n",
        "                raise ValueError(\n",
        "                    \"learning_rate_base 값이 warmup_learning_rate보다 크거나 같아야합니다.\")\n",
        "            slope = (self.learning_rate_base - self.warmup_learning_rate) / self.warmup_steps\n",
        "            warmup_rate = slope * tf.cast(step, tf.float32) + self.warmup_learning_rate\n",
        "            learning_rate = tf.where(step < self.warmup_steps, warmup_rate, learning_rate)\n",
        "        return tf.where(step > self.total_steps, 0.0, learning_rate, name=\"learning_rate\")\n",
        "\n"
      ],
      "metadata": {
        "id": "xHY61rm06vrF"
      },
      "execution_count": 103,
      "outputs": []
    },
    {
      "cell_type": "code",
      "source": [
        "total_steps = int((len(x_train) / batch_size) * epochs)\n",
        "warmup_epoch_percentage = 0.10\n",
        "warmup_steps = int(total_steps * warmup_epoch_percentage)\n",
        "scheduled_lrs = CosineDecay(\n",
        "    learning_rate_base=learning_rate,\n",
        "    total_steps=total_steps,\n",
        "    warmup_learning_rate=0.0,\n",
        "    warmup_steps=warmup_steps,)"
      ],
      "metadata": {
        "id": "4-byjRfB602e"
      },
      "execution_count": 104,
      "outputs": []
    },
    {
      "cell_type": "code",
      "source": [
        "optimizer = tf.keras.optimizers.AdamW(\n",
        "    learning_rate=scheduled_lrs,\n",
        "    weight_decay=weight_decay)"
      ],
      "metadata": {
        "id": "xths6iTz62d2"
      },
      "execution_count": 105,
      "outputs": []
    },
    {
      "cell_type": "code",
      "source": [
        "vit.compile(optimizer=optimizer,\n",
        "            loss=tf.keras.losses.SparseCategoricalCrossentropy(from_logits=True),\n",
        "            metrics=['accuracy'])"
      ],
      "metadata": {
        "id": "4sh3tPxQ02Fg"
      },
      "execution_count": 106,
      "outputs": []
    },
    {
      "cell_type": "code",
      "source": [
        "history = vit.fit(x_train,y_train,validation_data=(x_test,y_test),epochs=10)"
      ],
      "metadata": {
        "colab": {
          "base_uri": "https://localhost:8080/"
        },
        "id": "UrshCw7_2qCP",
        "outputId": "9966e2ff-aad8-4884-c132-62abe729be87"
      },
      "execution_count": 107,
      "outputs": [
        {
          "output_type": "stream",
          "name": "stdout",
          "text": [
            "Epoch 1/10\n",
            "1563/1563 [==============================] - 84s 44ms/step - loss: 4.7737 - accuracy: 0.0164 - val_loss: 4.3434 - val_accuracy: 0.0331\n",
            "Epoch 2/10\n",
            "1563/1563 [==============================] - 67s 43ms/step - loss: 4.3795 - accuracy: 0.0319 - val_loss: 4.2031 - val_accuracy: 0.0522\n",
            "Epoch 3/10\n",
            "1563/1563 [==============================] - 67s 43ms/step - loss: 4.1138 - accuracy: 0.0600 - val_loss: 3.6915 - val_accuracy: 0.1272\n",
            "Epoch 4/10\n",
            "1563/1563 [==============================] - 68s 43ms/step - loss: 3.6003 - accuracy: 0.1378 - val_loss: 3.2925 - val_accuracy: 0.1984\n",
            "Epoch 5/10\n",
            "1563/1563 [==============================] - 66s 42ms/step - loss: 3.2926 - accuracy: 0.1965 - val_loss: 3.0358 - val_accuracy: 0.2439\n",
            "Epoch 6/10\n",
            "1563/1563 [==============================] - 69s 44ms/step - loss: 3.1110 - accuracy: 0.2309 - val_loss: 2.9425 - val_accuracy: 0.2637\n",
            "Epoch 7/10\n",
            "1563/1563 [==============================] - 69s 44ms/step - loss: 2.9615 - accuracy: 0.2599 - val_loss: 2.8048 - val_accuracy: 0.2950\n",
            "Epoch 8/10\n",
            "1563/1563 [==============================] - 71s 45ms/step - loss: 2.8246 - accuracy: 0.2876 - val_loss: 2.7141 - val_accuracy: 0.3148\n",
            "Epoch 9/10\n",
            "1563/1563 [==============================] - 69s 44ms/step - loss: 2.7044 - accuracy: 0.3112 - val_loss: 2.6628 - val_accuracy: 0.3202\n",
            "Epoch 10/10\n",
            "1563/1563 [==============================] - 69s 44ms/step - loss: 2.5860 - accuracy: 0.3321 - val_loss: 2.5856 - val_accuracy: 0.3440\n"
          ]
        }
      ]
    },
    {
      "cell_type": "code",
      "source": [
        "#시각화는 추후"
      ],
      "metadata": {
        "id": "4XYiXdxo21Cm"
      },
      "execution_count": 108,
      "outputs": []
    },
    {
      "cell_type": "code",
      "source": [],
      "metadata": {
        "id": "pdXA9JZ8D-So"
      },
      "execution_count": null,
      "outputs": []
    }
  ]
}